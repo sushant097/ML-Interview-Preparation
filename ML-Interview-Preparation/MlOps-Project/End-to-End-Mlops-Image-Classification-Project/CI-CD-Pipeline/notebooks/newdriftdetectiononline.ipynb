{
 "cells": [
  {
   "cell_type": "code",
   "execution_count": 1,
   "metadata": {
    "tags": []
   },
   "outputs": [],
   "source": [
    "! pip install --quiet alibi-detect[torch] albumentations torchdrift"
   ]
  },
  {
   "cell_type": "code",
   "execution_count": 117,
   "metadata": {
    "tags": []
   },
   "outputs": [],
   "source": [
    "from typing import Optional, Any\n",
    "\n",
    "import torch\n",
    "import torch.nn as nn\n",
    "\n",
    "import torchvision\n",
    "import torchvision.transforms as transforms\n",
    "import torch.nn.functional as F\n",
    "import numpy as np\n",
    "import torchvision.transforms as T\n",
    "from PIL import Image\n",
    "import copy\n",
    "import boto3\n",
    "from utils import extract_archive, download_file_from_s3\n",
    "from pathlib import Path\n",
    "import os"
   ]
  },
  {
   "cell_type": "code",
   "execution_count": 4,
   "metadata": {},
   "outputs": [
    {
     "name": "stdout",
     "output_type": "stream",
     "text": [
      "Sucessfully file downloaded\n"
     ]
    }
   ],
   "source": [
    "# download file\n",
    "# Set the bucket name and file name\n",
    "bucket_name = 'sagemaker-us-east-1-input-data'\n",
    "file_name = 'mini_dataset.zip'\n",
    "\n",
    "download_file_from_s3(bucket_name, file_name)"
   ]
  },
  {
   "cell_type": "code",
   "execution_count": 11,
   "metadata": {},
   "outputs": [
    {
     "data": {
      "text/plain": [
       "''"
      ]
     },
     "execution_count": 11,
     "metadata": {},
     "output_type": "execute_result"
    }
   ],
   "source": [
    "# root_dataset = Path(\"\")\n",
    "# dataset_extracted.mkdir(parents=True, exist_ok=True)\n",
    "extract_archive(\n",
    "    './'+'mini_dataset.zip',\n",
    "    \"\"\n",
    ")"
   ]
  },
  {
   "cell_type": "code",
   "execution_count": 118,
   "metadata": {},
   "outputs": [
    {
     "data": {
      "text/plain": [
       "['05-test-staging.ipynb',\n",
       " '__pycache__',\n",
       " 'sagemaker-capstone-project-v1-p-sqr54jwsvwmr-modelbuild',\n",
       " 'model.scripted.pt',\n",
       " 'mini_dataset.zip',\n",
       " 'newdriftdetectiononline.ipynb',\n",
       " 'sagemaker-intel-pipeline',\n",
       " '06-test-production.ipynb',\n",
       " 'sagemaker-capstone-project-v1-p-sqr54jwsvwmr-modeldeploy',\n",
       " 'infer_drift.py',\n",
       " 'final_codecommit_pipeline.zip',\n",
       " '04-pipeline_with_drift.ipynb',\n",
       " 'TestImages',\n",
       " 'requirements.txt',\n",
       " 'inferWithDrift.py',\n",
       " '04-pipeline.ipynb',\n",
       " '.sparkmagic',\n",
       " 'mini_dataset',\n",
       " '.ipynb_checkpoints',\n",
       " 'utils.py',\n",
       " 'lost+found']"
      ]
     },
     "execution_count": 118,
     "metadata": {},
     "output_type": "execute_result"
    }
   ],
   "source": [
    "os.listdir()"
   ]
  },
  {
   "cell_type": "code",
   "execution_count": 33,
   "metadata": {
    "tags": []
   },
   "outputs": [],
   "source": [
    "transform = T.Compose([\n",
    "                       T.Resize((224, 224)),\n",
    "                       T.ToTensor(),\n",
    "                       T.Normalize(mean=[0.485, 0.456, 0.406], std=[0.229, 0.224, 0.225])])\n",
    "\n",
    "idx_to_class = {\n",
    "    0: 'buildings', 1: 'forest', 2: 'glacier', 3: 'mountain', 4: 'sea', 5: 'street'\n",
    "}\n",
    "\n",
    "classnames = ['buildings', 'forest', 'glacier', 'mountain', 'sea', 'street']"
   ]
  },
  {
   "cell_type": "code",
   "execution_count": 21,
   "metadata": {
    "tags": []
   },
   "outputs": [],
   "source": [
    "# load model\n",
    "def model_fn():\n",
    "    model = torch.jit.load(\"model.scripted.pt\")\n",
    "\n",
    "    model.to(device).eval()\n",
    "\n",
    "    return model"
   ]
  },
  {
   "cell_type": "code",
   "execution_count": 22,
   "metadata": {
    "tags": []
   },
   "outputs": [],
   "source": [
    "device = \"cuda\" if torch.cuda.is_available() else \"cpu\"\n"
   ]
  },
  {
   "cell_type": "code",
   "execution_count": 23,
   "metadata": {
    "tags": []
   },
   "outputs": [],
   "source": [
    "dataset_dir = \"./mini_dataset\"\n",
    "model_dir = \".\"\n",
    "\n",
    "model = model_fn()"
   ]
  },
  {
   "cell_type": "markdown",
   "metadata": {},
   "source": [
    "#### Reference: https://docs.seldon.io/projects/alibi-detect/en/stable/cd/methods/onlinemmddrift.html"
   ]
  },
  {
   "cell_type": "code",
   "execution_count": 43,
   "metadata": {
    "tags": []
   },
   "outputs": [],
   "source": [
    "transform = T.Compose([T.ToPILImage(),\n",
    "                       T.Resize((224, 224)),\n",
    "                       T.ToTensor(),\n",
    "                       T.Normalize(mean=[0.485, 0.456, 0.406], std=[0.229, 0.224, 0.225])])"
   ]
  },
  {
   "cell_type": "code",
   "execution_count": 25,
   "metadata": {
    "tags": []
   },
   "outputs": [],
   "source": [
    "train_dataset = torchvision.datasets.ImageFolder(root=dataset_dir , transform=transform)\n",
    "train_loader = torch.utils.data.DataLoader(train_dataset, batch_size=1)"
   ]
  },
  {
   "cell_type": "code",
   "execution_count": 26,
   "metadata": {
    "tags": []
   },
   "outputs": [],
   "source": [
    "from typing import Tuple, Generator, Callable, Optional\n"
   ]
  },
  {
   "cell_type": "code",
   "execution_count": 27,
   "metadata": {
    "tags": []
   },
   "outputs": [],
   "source": [
    "def stream_intel(\n",
    "    dataset_dir: str=None,\n",
    ") -> Generator:\n",
    "    transform = T.Compose([\n",
    "                       T.Resize((224, 224)),\n",
    "                       T.ToTensor(),\n",
    "                       T.Normalize(mean=[0.485, 0.456, 0.406], std=[0.229, 0.224, 0.225])])\n",
    "    \n",
    "    train_dataset = torchvision.datasets.ImageFolder(root=dataset_dir , transform=transform)\n",
    "    train_loader = torch.utils.data.DataLoader(train_dataset, batch_size=1)\n",
    "    ds_iter = iter(train_loader)\n",
    "\n",
    "    while True:\n",
    "        try:\n",
    "            img = next(ds_iter)[0][0]\n",
    "        except Exception:\n",
    "            ds_iter = iter(train_loader)\n",
    "            img = next(ds_iter)[0][0]\n",
    "        yield img.numpy()"
   ]
  },
  {
   "cell_type": "code",
   "execution_count": 39,
   "metadata": {
    "tags": []
   },
   "outputs": [],
   "source": [
    "N = 50  # size of reference set\n",
    "stream_i = stream_intel(dataset_dir=dataset_dir)\n",
    "x_ref = np.stack([next(stream_i) for _ in range(N)], axis=0)"
   ]
  },
  {
   "cell_type": "code",
   "execution_count": 29,
   "metadata": {
    "tags": []
   },
   "outputs": [],
   "source": [
    "# inference\n",
    "def predict_fn(input_object, model, out_prob_only=False):\n",
    "    with torch.no_grad():\n",
    "        prediction = model(input_object)\n",
    "        prediction = F.softmax(prediction, dim=1)\n",
    "\n",
    "    if out_prob_only:\n",
    "        return prediction\n",
    "    else:\n",
    "        confidences, cat_ids = torch.topk(prediction, 5)\n",
    "        outputs = {\n",
    "            idx_to_class[idx.item()]: c.item() for c, idx in zip(confidences[0], cat_ids[0])\n",
    "        }\n",
    "        return outputs"
   ]
  },
  {
   "cell_type": "code",
   "execution_count": 31,
   "metadata": {
    "tags": []
   },
   "outputs": [],
   "source": [
    "\n",
    "image = Image.open(dataset_dir+\"/buildings\"+\"/\"+\"0.jpg\")\n",
    "preprocess_image = transform(np.array(image).astype(np.uint8)).unsqueeze(0).to(device)"
   ]
  },
  {
   "cell_type": "code",
   "execution_count": 34,
   "metadata": {
    "tags": []
   },
   "outputs": [
    {
     "data": {
      "text/plain": [
       "{'buildings': 0.36699575185775757,\n",
       " 'sea': 0.21391302347183228,\n",
       " 'glacier': 0.14441034197807312,\n",
       " 'mountain': 0.13991564512252808,\n",
       " 'street': 0.1005551666021347}"
      ]
     },
     "execution_count": 34,
     "metadata": {},
     "output_type": "execute_result"
    }
   ],
   "source": [
    "out = predict_fn(preprocess_image, model, out_prob_only=False )\n",
    "out"
   ]
  },
  {
   "cell_type": "code",
   "execution_count": 35,
   "metadata": {
    "tags": []
   },
   "outputs": [],
   "source": [
    "def model_fn(x: np.ndarray) -> np.ndarray:\n",
    "    x = torch.as_tensor(x).to(device)\n",
    "    with torch.no_grad():\n",
    "        x_proj = model(x)\n",
    "    return x_proj.cpu().numpy()"
   ]
  },
  {
   "cell_type": "code",
   "execution_count": 84,
   "metadata": {
    "tags": []
   },
   "outputs": [],
   "source": [
    "ERT = 150  # expected run-time in absence of change\n",
    "W = 2  # size of test window\n",
    "B = 50_000  # number of simulations to configure threshold"
   ]
  },
  {
   "cell_type": "code",
   "execution_count": 85,
   "metadata": {
    "tags": []
   },
   "outputs": [
    {
     "name": "stderr",
     "output_type": "stream",
     "text": [
      "No GPU detected, fall back on CPU.\n"
     ]
    },
    {
     "name": "stdout",
     "output_type": "stream",
     "text": [
      "Generating permutations of kernel matrix..\n"
     ]
    },
    {
     "name": "stderr",
     "output_type": "stream",
     "text": [
      "100%|██████████| 1000/1000 [00:00<00:00, 21851.14it/s]\n",
      "Computing thresholds: 100%|██████████| 2/2 [00:00<00:00,  5.27it/s]\n"
     ]
    }
   ],
   "source": [
    "from alibi_detect.cd import MMDDriftOnline\n",
    "\n",
    "dd = MMDDriftOnline(x_ref, ERT, W, backend='pytorch')"
   ]
  },
  {
   "cell_type": "markdown",
   "metadata": {},
   "source": [
    "### Detect Drift\n"
   ]
  },
  {
   "cell_type": "code",
   "execution_count": 113,
   "metadata": {
    "tags": []
   },
   "outputs": [],
   "source": [
    "transform = T.Compose([T.ToPILImage(),\n",
    "                       T.Resize((224, 224)),\n",
    "                       T.ToTensor(),\n",
    "                       T.Normalize(mean=[0.485, 0.456, 0.406], std=[0.229, 0.224, 0.225])])\n",
    "inp_img = transform(np.array(image).astype(np.uint8)).to(device)\n"
   ]
  },
  {
   "cell_type": "code",
   "execution_count": 114,
   "metadata": {
    "tags": []
   },
   "outputs": [],
   "source": [
    "preds = dd.predict(np.array(inp_img), return_test_stat=True)"
   ]
  },
  {
   "cell_type": "code",
   "execution_count": 115,
   "metadata": {
    "tags": []
   },
   "outputs": [
    {
     "data": {
      "text/plain": [
       "{'data': {'is_drift': 0,\n",
       "  'distance': None,\n",
       "  'p_val': None,\n",
       "  'threshold': 0.40739706158638,\n",
       "  'time': 9,\n",
       "  'ert': 150,\n",
       "  'test_stat': 0.1339147984981537},\n",
       " 'meta': {'name': 'MMDDriftOnlineTorch',\n",
       "  'online': True,\n",
       "  'data_type': None,\n",
       "  'version': '0.10.4',\n",
       "  'detector_type': 'drift',\n",
       "  'backend': 'pytorch'}}"
      ]
     },
     "execution_count": 115,
     "metadata": {},
     "output_type": "execute_result"
    }
   ],
   "source": [
    "preds"
   ]
  },
  {
   "cell_type": "code",
   "execution_count": 98,
   "metadata": {
    "tags": []
   },
   "outputs": [],
   "source": [
    "import albumentations as A\n"
   ]
  },
  {
   "cell_type": "code",
   "execution_count": 108,
   "metadata": {
    "tags": []
   },
   "outputs": [],
   "source": [
    "perturb = A.RandomBrightnessContrast(\n",
    "    brightness_limit=5,\n",
    "    contrast_limit=3,\n",
    "    p=1.0\n",
    ")\n"
   ]
  },
  {
   "cell_type": "code",
   "execution_count": 109,
   "metadata": {
    "tags": []
   },
   "outputs": [],
   "source": [
    "perturbed_image = torch.tensor(\n",
    "    perturb(\n",
    "        image = np.array(image)\n",
    ")['image']\n",
    ")\n",
    "\n",
    "transform2 = T.Compose([T.ToPILImage(),\n",
    "                       T.Resize((224, 224)),\n",
    "                       T.ToTensor(),\n",
    "                       T.Normalize(mean=[0.485, 0.456, 0.406], std=[0.229, 0.224, 0.225])\n",
    "                       ])\n",
    "\n",
    "inp_img2 = transform2(np.array(perturbed_image).astype(np.uint8)).to(device)\n",
    "\n"
   ]
  },
  {
   "cell_type": "code",
   "execution_count": 110,
   "metadata": {
    "tags": []
   },
   "outputs": [
    {
     "data": {
      "text/plain": [
       "{'data': {'is_drift': 1,\n",
       "  'distance': None,\n",
       "  'p_val': None,\n",
       "  'threshold': 0.40739706158638,\n",
       "  'time': 7,\n",
       "  'ert': 150,\n",
       "  'test_stat': 1.2232393026351929},\n",
       " 'meta': {'name': 'MMDDriftOnlineTorch',\n",
       "  'online': True,\n",
       "  'data_type': None,\n",
       "  'version': '0.10.4',\n",
       "  'detector_type': 'drift',\n",
       "  'backend': 'pytorch'}}"
      ]
     },
     "execution_count": 110,
     "metadata": {},
     "output_type": "execute_result"
    }
   ],
   "source": [
    "preds = dd.predict(np.array(inp_img2), return_test_stat=True)\n",
    "preds"
   ]
  },
  {
   "cell_type": "code",
   "execution_count": 112,
   "metadata": {},
   "outputs": [
    {
     "data": {
      "text/plain": [
       "1.2260148525238037"
      ]
     },
     "execution_count": 112,
     "metadata": {},
     "output_type": "execute_result"
    }
   ],
   "source": [
    "dd.score(np.array(inp_img2))"
   ]
  },
  {
   "cell_type": "code",
   "execution_count": null,
   "metadata": {},
   "outputs": [],
   "source": []
  }
 ],
 "metadata": {
  "kernelspec": {
   "display_name": "conda_amazonei_pytorch_latest_p37",
   "language": "python",
   "name": "conda_amazonei_pytorch_latest_p37"
  },
  "language_info": {
   "codemirror_mode": {
    "name": "ipython",
    "version": 3
   },
   "file_extension": ".py",
   "mimetype": "text/x-python",
   "name": "python",
   "nbconvert_exporter": "python",
   "pygments_lexer": "ipython3",
   "version": "3.7.13"
  }
 },
 "nbformat": 4,
 "nbformat_minor": 4
}