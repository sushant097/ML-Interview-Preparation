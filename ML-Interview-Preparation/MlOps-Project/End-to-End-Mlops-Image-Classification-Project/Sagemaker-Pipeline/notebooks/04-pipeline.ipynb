{
 "cells": [
  {
   "cell_type": "code",
   "execution_count": 3,
   "id": "8661876f-8241-46ef-ac2f-fe2fc3c81d29",
   "metadata": {},
   "outputs": [],
   "source": [
    "# ! unzip sagemaker-flower-pipeline.zip"
   ]
  },
  {
   "cell_type": "markdown",
   "id": "42cbc616-0810-4ea9-9418-4aa1c80a7ffc",
   "metadata": {},
   "source": [
    "Make sure to use `sagemaker==2.93.0`"
   ]
  },
  {
   "cell_type": "code",
   "execution_count": 1,
   "id": "44719a66-7b27-4a91-b047-699742a46ae9",
   "metadata": {
    "tags": []
   },
   "outputs": [],
   "source": [
    "! pip install --quiet sagemaker==2.93.0\n",
    "# ! pip install sagemaker==2.120.0"
   ]
  },
  {
   "cell_type": "code",
   "execution_count": 1,
   "id": "ae583826-8945-4d66-a178-b972e0810278",
   "metadata": {},
   "outputs": [],
   "source": [
    "# !pip install --quiet -r sagemaker-intel-pipeline/requirements.txt"
   ]
  },
  {
   "cell_type": "code",
   "execution_count": 1,
   "id": "e148b092-62d3-4601-bb4b-381de27769f2",
   "metadata": {
    "tags": []
   },
   "outputs": [],
   "source": [
    "import boto3\n",
    "import sagemaker\n",
    "import sagemaker.session\n",
    "from sagemaker.workflow.pipeline_context import PipelineSession"
   ]
  },
  {
   "cell_type": "code",
   "execution_count": 2,
   "id": "06cdace5-49e2-4134-bb84-9020527ab9c5",
   "metadata": {
    "tags": []
   },
   "outputs": [
    {
     "data": {
      "text/plain": [
       "'2.93.0'"
      ]
     },
     "execution_count": 2,
     "metadata": {},
     "output_type": "execute_result"
    }
   ],
   "source": [
    "sagemaker.__version__"
   ]
  },
  {
   "cell_type": "code",
   "execution_count": 3,
   "id": "7a9f358e-26c7-4781-b71d-4bae4736bcb0",
   "metadata": {
    "tags": []
   },
   "outputs": [
    {
     "name": "stdout",
     "output_type": "stream",
     "text": [
      "account: 629171115321\n",
      "bucket: sagemaker-us-east-1-629171115321\n",
      "region: us-east-1\n",
      "role: arn:aws:iam::629171115321:role/my_sagemaker_execution_role\n"
     ]
    }
   ],
   "source": [
    "import boto3\n",
    "import sagemaker\n",
    "import time\n",
    "from time import strftime\n",
    "\n",
    "boto_session = boto3.Session()\n",
    "sagemaker_session = sagemaker.Session(boto_session=boto_session)\n",
    "sm_client = boto3.client(\"sagemaker\")\n",
    "region = boto_session.region_name\n",
    "bucket = sagemaker_session.default_bucket()\n",
    "role = sagemaker.get_execution_role()\n",
    "account = sagemaker_session.boto_session.client(\"sts\").get_caller_identity()[\"Account\"]\n",
    "\n",
    "\n",
    "print(f\"account: {account}\")\n",
    "print(f\"bucket: {bucket}\")\n",
    "print(f\"region: {region}\")\n",
    "print(f\"role: {role}\")\n",
    "default_bucket = bucket"
   ]
  },
  {
   "cell_type": "code",
   "execution_count": 4,
   "id": "011f67ca-54df-486c-8217-d9c2cdc892c0",
   "metadata": {
    "tags": []
   },
   "outputs": [],
   "source": [
    "def get_sagemaker_client(region):\n",
    "    \"\"\"Gets the sagemaker client.\n",
    "\n",
    "    Args:\n",
    "        region: the aws region to start the session\n",
    "        default_bucket: the bucket to use for storing the artifacts\n",
    "\n",
    "    Returns:\n",
    "        `sagemaker.session.Session instance\n",
    "    \"\"\"\n",
    "    boto_session = boto3.Session(region_name=region)\n",
    "    sagemaker_client = boto_session.client(\"sagemaker\")\n",
    "    return sagemaker_client\n",
    "\n",
    "\n",
    "def get_session(region, default_bucket):\n",
    "    \"\"\"Gets the sagemaker session based on the region.\n",
    "\n",
    "    Args:\n",
    "        region: the aws region to start the session\n",
    "        default_bucket: the bucket to use for storing the artifacts\n",
    "\n",
    "    Returns:\n",
    "        `sagemaker.session.Session instance\n",
    "    \"\"\"\n",
    "\n",
    "    boto_session = boto3.Session(region_name=region)\n",
    "\n",
    "    sagemaker_client = boto_session.client(\"sagemaker\")\n",
    "    runtime_client = boto_session.client(\"sagemaker-runtime\")\n",
    "    return sagemaker.session.Session(\n",
    "        boto_session=boto_session,\n",
    "        sagemaker_client=sagemaker_client,\n",
    "        sagemaker_runtime_client=runtime_client,\n",
    "        default_bucket=default_bucket,\n",
    "    )\n",
    "\n",
    "\n",
    "def get_pipeline_session(region, default_bucket):\n",
    "    \"\"\"Gets the pipeline session based on the region.\n",
    "\n",
    "    Args:\n",
    "        region: the aws region to start the session\n",
    "        default_bucket: the bucket to use for storing the artifacts\n",
    "\n",
    "    Returns:\n",
    "        PipelineSession instance\n",
    "    \"\"\"\n",
    "\n",
    "    boto_session = boto3.Session(region_name=region)\n",
    "    sagemaker_client = boto_session.client(\"sagemaker\")\n",
    "\n",
    "    return PipelineSession(\n",
    "        boto_session=boto_session,\n",
    "        sagemaker_client=sagemaker_client,\n",
    "        default_bucket=default_bucket,\n",
    "    )"
   ]
  },
  {
   "cell_type": "code",
   "execution_count": 5,
   "id": "b5dd82c6-2e7b-43c9-9fd5-1406ba6e3647",
   "metadata": {
    "tags": []
   },
   "outputs": [],
   "source": [
    "# from sagemaker.workflow.pipeline_context import LocalPipelineSession\n",
    "\n",
    "# local_pipeline_session = LocalPipelineSession()"
   ]
  },
  {
   "cell_type": "code",
   "execution_count": 6,
   "id": "d4bbbb30-8b73-4c1d-b6bd-1e30e537414c",
   "metadata": {
    "tags": []
   },
   "outputs": [],
   "source": [
    "sagemaker_session = get_session(region, default_bucket)\n",
    "role = sagemaker.session.get_execution_role(sagemaker_session)\n",
    "pipeline_session = get_pipeline_session(region, default_bucket)"
   ]
  },
  {
   "cell_type": "code",
   "execution_count": 7,
   "id": "ee2e6b64-1f20-43eb-a213-1cb40975f468",
   "metadata": {
    "tags": []
   },
   "outputs": [],
   "source": [
    "base_job_name = \"pipeline-project\""
   ]
  },
  {
   "cell_type": "code",
   "execution_count": 8,
   "id": "927a6ccf",
   "metadata": {
    "collapsed": false,
    "jupyter": {
     "outputs_hidden": false
    },
    "pycharm": {
     "name": "#%%\n"
    },
    "tags": []
   },
   "outputs": [],
   "source": [
    "hparams = {\n",
    "    \"MODEL_NAME\":\"resnet18\",\n",
    "    \"OPTIM\":\"RMS\",\n",
    "    \"LR_RATE\":str(3.5999257898500047e-05),\n",
    "    \"BATCH_SIZE\":256\n",
    "}"
   ]
  },
  {
   "cell_type": "code",
   "execution_count": 9,
   "id": "846fe8d6-d5fb-4edc-b005-b63cfca6c4cc",
   "metadata": {
    "tags": []
   },
   "outputs": [],
   "source": [
    "from sagemaker.workflow.parameters import (\n",
    "    ParameterInteger,\n",
    "    ParameterString,\n",
    "    ParameterFloat\n",
    ")"
   ]
  },
  {
   "cell_type": "markdown",
   "id": "1cad4325-5516-41e0-a14b-30f82d9dfc50",
   "metadata": {},
   "source": [
    "## Processing Step"
   ]
  },
  {
   "cell_type": "code",
   "execution_count": 10,
   "id": "de305536-1592-419c-8991-192844dbf99a",
   "metadata": {
    "tags": []
   },
   "outputs": [],
   "source": [
    "from sagemaker.sklearn.processing import SKLearnProcessor\n",
    "from sagemaker.sklearn import SKLearn, SKLearnProcessor\n",
    "from sagemaker.processing import FrameworkProcessor\n",
    "from sagemaker.processing import ProcessingInput, ProcessingOutput"
   ]
  },
  {
   "cell_type": "code",
   "execution_count": 11,
   "id": "9719bdc7-5034-4a11-96c2-67a069fd297c",
   "metadata": {
    "tags": []
   },
   "outputs": [],
   "source": [
    "dvc_repo_url = ParameterString(\n",
    "    name=\"DVCRepoURL\", default_value=\"codecommit::us-east-1://sagemaker-intel-classification\"\n",
    ")\n",
    "dvc_branch = ParameterString(\n",
    "    name=\"DVCBranch\", default_value=\"pipeline-processed-dataset\"\n",
    ")"
   ]
  },
  {
   "cell_type": "code",
   "execution_count": 12,
   "id": "57976978-5966-47c0-932e-d728d4f480f7",
   "metadata": {
    "tags": []
   },
   "outputs": [],
   "source": [
    "# docker register repo\n",
    "repo_name = \"sagemaker-custom-image\"\n",
    "image_tag = \"pytorch-cpu\" # use gpu image for training; tag: pytorch-gpu"
   ]
  },
  {
   "cell_type": "code",
   "execution_count": 13,
   "id": "31d25ecd-e0e2-4112-8d8b-a5644023dfd7",
   "metadata": {
    "tags": []
   },
   "outputs": [
    {
     "data": {
      "text/plain": [
       "'629171115321.dkr.ecr.us-east-1.amazonaws.com/sagemaker-custom-image:pytorch-cpu'"
      ]
     },
     "execution_count": 13,
     "metadata": {},
     "output_type": "execute_result"
    }
   ],
   "source": [
    "output_path = 's3://{}/{}/output'.format(bucket, repo_name)\n",
    "image_name  = '{}.dkr.ecr.{}.amazonaws.com/{}:{}'.format(account, region, repo_name, image_tag)\n",
    "image_name"
   ]
  },
  {
   "cell_type": "code",
   "execution_count": 14,
   "id": "aaa406c6-e461-432d-bd39-7f39f19c3d36",
   "metadata": {},
   "outputs": [
    {
     "name": "stdout",
     "output_type": "stream",
     "text": [
      "updating: 04-pipeline.ipynb (deflated 80%)\n",
      "updating: sagemaker-intel-pipeline/ (stored 0%)\n",
      "updating: sagemaker-intel-pipeline/__pycache__/ (stored 0%)\n",
      "updating: sagemaker-intel-pipeline/__pycache__/utils.cpython-37.pyc (deflated 50%)\n",
      "updating: sagemaker-intel-pipeline/utils.py (deflated 71%)\n",
      "updating: sagemaker-intel-pipeline/requirements.txt (deflated 19%)\n",
      "updating: sagemaker-intel-pipeline/.ipynb_checkpoints/ (stored 0%)\n",
      "updating: sagemaker-intel-pipeline/.ipynb_checkpoints/train-checkpoint.py (deflated 64%)\n",
      "updating: sagemaker-intel-pipeline/.ipynb_checkpoints/model-checkpoint.py (deflated 70%)\n",
      "updating: sagemaker-intel-pipeline/.ipynb_checkpoints/preprocess-checkpoint.py (deflated 67%)\n",
      "updating: sagemaker-intel-pipeline/.ipynb_checkpoints/evaluate-checkpoint.py (deflated 61%)\n",
      "updating: sagemaker-intel-pipeline/evaluate.py (deflated 61%)\n",
      "updating: sagemaker-intel-pipeline/preprocess.py (deflated 67%)\n",
      "updating: sagemaker-intel-pipeline/__init__.py (stored 0%)\n",
      "updating: sagemaker-intel-pipeline/train.py (deflated 64%)\n",
      "updating: sagemaker-intel-pipeline/model.py (deflated 70%)\n",
      "updating: sagemaker-intel-pipeline/infer.py (deflated 55%)\n",
      "updating: sagemaker-intel-pipeline/dataset.py (deflated 68%)\n",
      "updating: .sparkmagic/ (stored 0%)\n",
      "updating: lost+found/ (stored 0%)\n",
      "updating: .ipynb_checkpoints/ (stored 0%)\n",
      "updating: .ipynb_checkpoints/04-pipeline-checkpoint.ipynb (deflated 79%)\n",
      "updating: sagemaker-intel-pipeline/_repack_model.py (deflated 65%)\n"
     ]
    }
   ],
   "source": [
    "!zip -r myfiles.zip ."
   ]
  },
  {
   "cell_type": "code",
   "execution_count": 15,
   "id": "efa7c0f4-8975-4c01-bab9-34b0e7b2193f",
   "metadata": {
    "tags": []
   },
   "outputs": [],
   "source": [
    "sklearn_processor = FrameworkProcessor(\n",
    "    estimator_cls=SKLearn,\n",
    "    framework_version=\"0.23-1\",\n",
    "    # instance_type=\"ml.t3.medium\",\n",
    "    instance_type=\"ml.m5.xlarge\",\n",
    "    # instance_type='local',\n",
    "    instance_count=1,\n",
    "    base_job_name=f\"{base_job_name}/preprocess-dataset\",\n",
    "    sagemaker_session=pipeline_session,\n",
    "    # sagemaker_session=local_pipeline_session,\n",
    "    role=role,\n",
    "    env={\n",
    "        \"DVC_REPO_URL\": dvc_repo_url,\n",
    "        \"DVC_BRANCH\": dvc_branch,\n",
    "        # \"DVC_REPO_URL\": \"codecommit::us-east-1://sagemaker-intel-classification\",\n",
    "        # \"DVC_BRANCH\": \"project-dataset\",\n",
    "        \"GIT_USER\": \"sushant\",\n",
    "        \"GIT_EMAIL\": \"sushantgautm@gmail.com\",\n",
    "    },\n",
    ")"
   ]
  },
  {
   "cell_type": "code",
   "execution_count": 16,
   "id": "01f7e414-8e52-4470-96a6-bf0bad4d25a5",
   "metadata": {},
   "outputs": [],
   "source": [
    "# !python sagemaker-intel-pipeline/preprocess.py"
   ]
  },
  {
   "cell_type": "code",
   "execution_count": 17,
   "id": "e68c9de1-9024-4ec7-ae17-03afae03ce73",
   "metadata": {
    "tags": []
   },
   "outputs": [],
   "source": [
    "from sagemaker.processing import ProcessingInput, ProcessingOutput\n",
    "from sagemaker.workflow.steps import ProcessingStep"
   ]
  },
  {
   "cell_type": "code",
   "execution_count": 18,
   "id": "15bfe244",
   "metadata": {
    "collapsed": false,
    "jupyter": {
     "outputs_hidden": false
    },
    "pycharm": {
     "name": "#%%\n"
    },
    "tags": []
   },
   "outputs": [],
   "source": [
    "input_dataset = ParameterString(\n",
    "    name=\"InputDatasetZip\",\n",
    "    default_value=\"s3://sagemaker-us-east-1-629171115321/intel.zip\",\n",
    ")"
   ]
  },
  {
   "cell_type": "code",
   "execution_count": 19,
   "id": "06464b07-54ea-4172-95d8-8cdf76007e80",
   "metadata": {
    "scrolled": true,
    "tags": []
   },
   "outputs": [
    {
     "name": "stdout",
     "output_type": "stream",
     "text": [
      "\n",
      "Job Name:  pipeline-project/preprocess-dataset-2023-01-04-09-01-05-785\n",
      "Inputs:  [{'InputName': 'data', 'AppManaged': False, 'S3Input': {'S3Uri': ParameterString(name='InputDatasetZip', parameter_type=<ParameterTypeEnum.STRING: 'String'>, default_value='s3://sagemaker-us-east-1-629171115321/intel.zip'), 'LocalPath': '/opt/ml/processing/input', 'S3DataType': 'S3Prefix', 'S3InputMode': 'File', 'S3DataDistributionType': 'FullyReplicated', 'S3CompressionType': 'None'}}, {'InputName': 'code', 'AppManaged': False, 'S3Input': {'S3Uri': 's3://sagemaker-us-east-1-629171115321/pipeline-project/preprocess-dataset-2023-01-04-09-01-05-785/source/sourcedir.tar.gz', 'LocalPath': '/opt/ml/processing/input/code/', 'S3DataType': 'S3Prefix', 'S3InputMode': 'File', 'S3DataDistributionType': 'FullyReplicated', 'S3CompressionType': 'None'}}, {'InputName': 'entrypoint', 'AppManaged': False, 'S3Input': {'S3Uri': 's3://sagemaker-us-east-1-629171115321/pipeline-project/preprocess-dataset-2023-01-04-09-01-05-785/source/runproc.sh', 'LocalPath': '/opt/ml/processing/input/entrypoint', 'S3DataType': 'S3Prefix', 'S3InputMode': 'File', 'S3DataDistributionType': 'FullyReplicated', 'S3CompressionType': 'None'}}]\n",
      "Outputs:  [{'OutputName': 'train', 'AppManaged': False, 'S3Output': {'S3Uri': 's3://sagemaker-us-east-1-629171115321/pipeline-project/preprocess-dataset-2023-01-04-09-01-05-785/output/train', 'LocalPath': '/opt/ml/processing/dataset/train', 'S3UploadMode': 'EndOfJob'}}, {'OutputName': 'test', 'AppManaged': False, 'S3Output': {'S3Uri': 's3://sagemaker-us-east-1-629171115321/pipeline-project/preprocess-dataset-2023-01-04-09-01-05-785/output/test', 'LocalPath': '/opt/ml/processing/dataset/test', 'S3UploadMode': 'EndOfJob'}}]\n"
     ]
    },
    {
     "name": "stderr",
     "output_type": "stream",
     "text": [
      "/home/ec2-user/anaconda3/envs/amazonei_pytorch_latest_p37/lib/python3.7/site-packages/sagemaker/workflow/pipeline_context.py:197: UserWarning: Running within a PipelineSession, there will be No Wait, No Logs, and No Job being started.\n",
      "  UserWarning,\n"
     ]
    }
   ],
   "source": [
    "processing_step_args = sklearn_processor.run(\n",
    "    code=\"preprocess.py\",\n",
    "    source_dir=\"sagemaker-intel-pipeline\",\n",
    "    # dependencies=\"sagemaker-flower-pipeline/requirements.txt\",\n",
    "    inputs=[\n",
    "        ProcessingInput(\n",
    "            input_name=\"data\",\n",
    "            source=input_dataset,\n",
    "            # source=\"s3://sagemaker-us-east-1-629171115321/intel.zip\",\n",
    "            destination=\"/opt/ml/processing/input\",\n",
    "        )\n",
    "    ],\n",
    "    outputs=[\n",
    "        ProcessingOutput(\n",
    "            output_name=\"train\", source=\"/opt/ml/processing/dataset/train\"\n",
    "        ),\n",
    "        ProcessingOutput(output_name=\"test\", source=\"/opt/ml/processing/dataset/test\"),\n",
    "    ],\n",
    ")"
   ]
  },
  {
   "cell_type": "code",
   "execution_count": 20,
   "id": "7da82540-f811-428f-95c7-b7935263892a",
   "metadata": {
    "tags": []
   },
   "outputs": [],
   "source": [
    "step_process = ProcessingStep(\n",
    "    name=\"PreprocessIntelClassifierDataset\",\n",
    "    step_args=processing_step_args,\n",
    ")"
   ]
  },
  {
   "cell_type": "code",
   "execution_count": 21,
   "id": "882d6af5-7039-4650-8231-3c7b4659f1dc",
   "metadata": {
    "tags": []
   },
   "outputs": [
    {
     "data": {
      "text/plain": [
       "ProcessingStep(name='PreprocessIntelClassifierDataset', display_name=None, description=None, step_type=<StepTypeEnum.PROCESSING: 'Processing'>, depends_on=None)"
      ]
     },
     "execution_count": 21,
     "metadata": {},
     "output_type": "execute_result"
    }
   ],
   "source": [
    "step_process"
   ]
  },
  {
   "cell_type": "markdown",
   "id": "3e9f3251-14a5-4bbd-8d56-49f1c19548bf",
   "metadata": {
    "tags": []
   },
   "source": [
    "## Train Step"
   ]
  },
  {
   "cell_type": "code",
   "execution_count": 22,
   "id": "4507d0c4",
   "metadata": {
    "collapsed": false,
    "jupyter": {
     "outputs_hidden": false
    },
    "pycharm": {
     "name": "#%%\n"
    },
    "tags": []
   },
   "outputs": [],
   "source": [
    "train_s3_loc = ParameterString(\n",
    "    name=\"TrainS3Location\", default_value=\"s3://sagemaker-us-east-1-629171115321/pipeline-project-preprocess-dataset-2023-01-03-01-32-13-530/output/train/\"\n",
    ")\n",
    "test_s3_loc = ParameterString(\n",
    "    name=\"TestS3Location\", default_value=\"s3://sagemaker-us-east-1-629171115321/pipeline-project-preprocess-dataset-2023-01-03-01-32-13-530/output/test/\"\n",
    ")\n",
    "model_name = ParameterString(\n",
    "    name=\"ModelName\", default_value=\"resnet18\"\n",
    ")\n",
    "optim_name = ParameterString(\n",
    "    name=\"OptimName\", default_value=\"RMS\"\n",
    ")\n",
    "# Validation error: https://stackoverflow.com/questions/71221741/validationexception-in-sagemaker-pipeline-creation\n",
    "learning_rate = ParameterString(name=\"Learning_rate\", default_value=\"3.5999257898500047e-05\")\n",
    "batch_size = ParameterString(name=\"Batch_size\", default_value=\"256\")"
   ]
  },
  {
   "cell_type": "code",
   "execution_count": 23,
   "id": "9d10ebe4-2544-48cd-92b3-66797027cdd3",
   "metadata": {
    "tags": []
   },
   "outputs": [],
   "source": [
    "from sagemaker.pytorch import PyTorch\n",
    "from sagemaker.debugger import TensorBoardOutputConfig\n",
    "from sagemaker.workflow.steps import (\n",
    "    ProcessingStep,\n",
    "    TrainingStep,\n",
    ")"
   ]
  },
  {
   "cell_type": "code",
   "execution_count": 24,
   "id": "d512ba09-61ac-4f86-8e83-cdc0d3a290aa",
   "metadata": {
    "tags": []
   },
   "outputs": [],
   "source": [
    "tensorboard_output_config = TensorBoardOutputConfig(\n",
    "    s3_output_path=f\"s3://{default_bucket}/sagemaker-intel-logs-pipeline-project\",\n",
    "    container_local_output_path=\"/opt/ml/output/tensorboard\",\n",
    ")"
   ]
  },
  {
   "cell_type": "code",
   "execution_count": 25,
   "id": "5db8669f-9cd4-44de-8437-9b1478555771",
   "metadata": {
    "tags": []
   },
   "outputs": [],
   "source": [
    "# ! aws s3 cp --recursive /root/flower-project/flowers s3://sagemaker-ap-south-1-006547668672/testing/training"
   ]
  },
  {
   "cell_type": "code",
   "execution_count": 26,
   "id": "8510670a-a68b-4d32-8281-09b170285880",
   "metadata": {
    "tags": []
   },
   "outputs": [
    {
     "data": {
      "text/plain": [
       "Join(on='', values=[<sagemaker.workflow.properties.Properties object at 0x7f575c6b8310>])"
      ]
     },
     "execution_count": 34,
     "metadata": {},
     "output_type": "execute_result"
    }
   ],
   "source": [
    "step_process.properties.ProcessingOutputConfig.Outputs[\"test\"].S3Output.S3Uri.to_string()"
   ]
  },
  {
   "cell_type": "code",
   "execution_count": null,
   "id": "cb657a69-eb3a-46a1-8cc5-1ab3ec5a67d5",
   "metadata": {
    "tags": []
   },
   "outputs": [],
   "source": [
    "pt_estimator = PyTorch(\n",
    "    base_job_name=f\"{base_job_name}/training-intel-pipeline\",\n",
    "    source_dir=\"sagemaker-intel-pipeline\",\n",
    "    entry_point=\"train.py\",\n",
    "    sagemaker_session=pipeline_session,\n",
    "    role=role,\n",
    "    py_version=\"py38\",\n",
    "    framework_version=\"1.11.0\",\n",
    "    instance_count=1,\n",
    "    instance_type=\"ml.g4dn.xlarge\",\n",
    "    tensorboard_output_config=tensorboard_output_config,\n",
    "    use_spot_instances=True,\n",
    "    max_wait=2000,\n",
    "    max_run=1800,\n",
    "    environment={\n",
    "        \"ModelName\":model_name,\n",
    "        \"OptimName\":optim_name,\n",
    "        \"Learning_rate\":learning_rate,\n",
    "        \"Batch_size\":batch_size,\n",
    "        # \"ModelName\":\"resnet18\",\n",
    "        # \"OptimName\":\"RMS\",\n",
    "        # \"Learning_rate\":\"3.5999257898500047e-05\",\n",
    "        # \"Batch_size\":\"256\",\n",
    "        \"GIT_USER\": \"sushant\",\n",
    "        \"GIT_EMAIL\": \"sushantgautm@gmail.com\",\n",
    "    },\n",
    ")"
   ]
  },
  {
   "cell_type": "code",
   "execution_count": null,
   "id": "57634267-f057-448b-824e-425f42890de5",
   "metadata": {
    "tags": []
   },
   "outputs": [],
   "source": [
    "from sagemaker.inputs import TrainingInput"
   ]
  },
  {
   "cell_type": "code",
   "execution_count": 40,
   "id": "f3835700-da93-4dbb-8915-d2e821407849",
   "metadata": {
    "tags": []
   },
   "outputs": [],
   "source": [
    "estimator_step_args = pt_estimator.fit(\n",
    "    {\n",
    "        # 'train': 's3://sagemaker-us-east-1-629171115321/pipeline-project-preprocess-dataset-2023-01-03-01-32-13-530/output/train/',\n",
    "        # 'test': 's3://sagemaker-us-east-1-629171115321/pipeline-project-preprocess-dataset-2023-01-03-01-32-13-530/output/test/'\n",
    "        \n",
    "        \"train\": TrainingInput(\n",
    "            s3_data=step_process.properties.ProcessingOutputConfig.Outputs[\"train\"].S3Output.S3Uri,\n",
    "        ),\n",
    "        \"test\": TrainingInput(\n",
    "            s3_data=step_process.properties.ProcessingOutputConfig.Outputs[\"test\"].S3Output.S3Uri,\n",
    "        ),\n",
    "    }\n",
    ")"
   ]
  },
  {
   "cell_type": "code",
   "execution_count": 31,
   "id": "82860535-420d-4955-83cd-40a43f6cf465",
   "metadata": {},
   "outputs": [],
   "source": [
    "step_train = TrainingStep(\n",
    "    name=\"TrainIntelClassifier\",\n",
    "    step_args=estimator_step_args,\n",
    ")"
   ]
  },
  {
   "cell_type": "code",
   "execution_count": 32,
   "id": "2b84ad53-3791-4ea5-8998-bdf9729c7a0d",
   "metadata": {},
   "outputs": [
    {
     "data": {
      "text/plain": [
       "TrainingStep(name='TrainIntelClassifier', display_name=None, description=None, step_type=<StepTypeEnum.TRAINING: 'Training'>, depends_on=None)"
      ]
     },
     "execution_count": 32,
     "metadata": {},
     "output_type": "execute_result"
    }
   ],
   "source": [
    "step_train"
   ]
  },
  {
   "cell_type": "markdown",
   "id": "fbbd2246-d756-4461-9196-75dcade51a36",
   "metadata": {
    "tags": []
   },
   "source": [
    "## Eval Step"
   ]
  },
  {
   "cell_type": "code",
   "execution_count": 33,
   "id": "e33fbbd5-779a-4d6f-b4e8-25e50ce972e5",
   "metadata": {
    "tags": []
   },
   "outputs": [],
   "source": [
    "from sagemaker.pytorch.processing import PyTorchProcessor"
   ]
  },
  {
   "cell_type": "code",
   "execution_count": 34,
   "id": "319d2de1-75c1-46fa-b307-7eabbac402b1",
   "metadata": {},
   "outputs": [],
   "source": [
    "pytorch_processor = PyTorchProcessor(\n",
    "    framework_version=\"1.11.0\",\n",
    "    py_version=\"py38\",\n",
    "    role=role,\n",
    "    sagemaker_session=pipeline_session,\n",
    "    # instance_type='ml.t3.medium',\n",
    "    # instance_type=\"ml.c5.xlarge\",\n",
    "    instance_type=\"ml.m5.4xlarge\",\n",
    "    # instance_type='local',\n",
    "    instance_count=1,\n",
    "    base_job_name=f\"{base_job_name}/eval-Intel-classifier-model\",\n",
    ")"
   ]
  },
  {
   "cell_type": "code",
   "execution_count": 35,
   "id": "ed36b1bc-e0bf-4416-b753-35680c5a5613",
   "metadata": {},
   "outputs": [
    {
     "name": "stdout",
     "output_type": "stream",
     "text": [
      "\n",
      "Job Name:  pipeline-project/eval-Intel-classifier--2023-01-04-02-50-13-151\n",
      "Inputs:  [{'InputName': 'input-1', 'AppManaged': False, 'S3Input': {'S3Uri': <sagemaker.workflow.properties.Properties object at 0x7ff6054942d0>, 'LocalPath': '/opt/ml/processing/model', 'S3DataType': 'S3Prefix', 'S3InputMode': 'File', 'S3DataDistributionType': 'FullyReplicated', 'S3CompressionType': 'None'}}, {'InputName': 'input-2', 'AppManaged': False, 'S3Input': {'S3Uri': <sagemaker.workflow.properties.Properties object at 0x7ff605ec4e50>, 'LocalPath': '/opt/ml/processing/test', 'S3DataType': 'S3Prefix', 'S3InputMode': 'File', 'S3DataDistributionType': 'FullyReplicated', 'S3CompressionType': 'None'}}, {'InputName': 'code', 'AppManaged': False, 'S3Input': {'S3Uri': 's3://sagemaker-us-east-1-629171115321/pipeline-project/eval-Intel-classifier--2023-01-04-02-50-13-151/source/sourcedir.tar.gz', 'LocalPath': '/opt/ml/processing/input/code/', 'S3DataType': 'S3Prefix', 'S3InputMode': 'File', 'S3DataDistributionType': 'FullyReplicated', 'S3CompressionType': 'None'}}, {'InputName': 'entrypoint', 'AppManaged': False, 'S3Input': {'S3Uri': 's3://sagemaker-us-east-1-629171115321/pipeline-project/eval-Intel-classifier--2023-01-04-02-50-13-151/source/runproc.sh', 'LocalPath': '/opt/ml/processing/input/entrypoint', 'S3DataType': 'S3Prefix', 'S3InputMode': 'File', 'S3DataDistributionType': 'FullyReplicated', 'S3CompressionType': 'None'}}]\n",
      "Outputs:  [{'OutputName': 'evaluation', 'AppManaged': False, 'S3Output': {'S3Uri': 's3://sagemaker-us-east-1-629171115321/pipeline-project/eval-Intel-classifier--2023-01-04-02-50-13-151/output/evaluation', 'LocalPath': '/opt/ml/processing/evaluation', 'S3UploadMode': 'EndOfJob'}}]\n"
     ]
    }
   ],
   "source": [
    "eval_step_args = pytorch_processor.run(\n",
    "    code=\"evaluate.py\",\n",
    "    source_dir=\"sagemaker-intel-pipeline\",\n",
    "    inputs=[\n",
    "        ProcessingInput(\n",
    "            # source=step_train.properties.ModelArtifacts.S3ModelArtifacts,\n",
    "            source=step_train.properties.ModelArtifacts.S3ModelArtifacts,\n",
    "            # source=\"s3://sagemaker-us-east-1-629171115321/pipeline-project-training-intel-pipelin-2023-01-03-02-28-57-889/output/model.tar.gz\",\n",
    "            destination=\"/opt/ml/processing/model\",\n",
    "        ),\n",
    "        ProcessingInput(\n",
    "            source=step_process.properties.ProcessingOutputConfig.Outputs[\n",
    "                \"test\"\n",
    "            ].S3Output.S3Uri,\n",
    "            # source=\"s3://sagemaker-us-east-1-629171115321/pipeline-project-preprocess-dataset-2023-01-03-01-32-13-530/output/test/\",\n",
    "            destination=\"/opt/ml/processing/test\",\n",
    "        ),\n",
    "    ],\n",
    "    outputs=[\n",
    "        ProcessingOutput(\n",
    "            output_name=\"evaluation\", source=\"/opt/ml/processing/evaluation\"\n",
    "        ),\n",
    "    ],\n",
    ")"
   ]
  },
  {
   "cell_type": "code",
   "execution_count": 36,
   "id": "3bc61d4c-0e3a-4eac-b407-39f61824e9f2",
   "metadata": {},
   "outputs": [],
   "source": [
    "from sagemaker.workflow.properties import PropertyFile"
   ]
  },
  {
   "cell_type": "code",
   "execution_count": 37,
   "id": "797bc449-0891-471c-9bea-8cd864e059b6",
   "metadata": {},
   "outputs": [],
   "source": [
    "evaluation_report = PropertyFile(\n",
    "    name=\"IntelClassifierEvaluationReport\",\n",
    "    output_name=\"evaluation\",\n",
    "    path=\"evaluation.json\",\n",
    ")\n",
    "step_eval = ProcessingStep(\n",
    "    name=\"EvaluateIntelClassifierModel\",\n",
    "    step_args=eval_step_args,\n",
    "    property_files=[evaluation_report],\n",
    ")"
   ]
  },
  {
   "cell_type": "code",
   "execution_count": 38,
   "id": "341ce3ce-b741-457f-b004-9ba1bce088a0",
   "metadata": {},
   "outputs": [
    {
     "data": {
      "text/plain": [
       "ProcessingStep(name='EvaluateIntelClassifierModel', display_name=None, description=None, step_type=<StepTypeEnum.PROCESSING: 'Processing'>, depends_on=None)"
      ]
     },
     "execution_count": 38,
     "metadata": {},
     "output_type": "execute_result"
    }
   ],
   "source": [
    "step_eval"
   ]
  },
  {
   "cell_type": "markdown",
   "id": "150dede2-b0a1-4108-94f8-16f155b505e3",
   "metadata": {
    "tags": []
   },
   "source": [
    "## Model Metrics"
   ]
  },
  {
   "cell_type": "code",
   "execution_count": 39,
   "id": "2cb97267-d866-4bd9-92be-7e9802b306c4",
   "metadata": {},
   "outputs": [],
   "source": [
    "from sagemaker.workflow.properties import PropertyFile\n",
    "from sagemaker.model_metrics import (\n",
    "    MetricsSource,\n",
    "    ModelMetrics,\n",
    ")"
   ]
  },
  {
   "cell_type": "code",
   "execution_count": 40,
   "id": "b1bda34a-77ad-4d80-9af2-92d9e75a6717",
   "metadata": {},
   "outputs": [],
   "source": [
    "model_metrics = ModelMetrics(\n",
    "    model_statistics=MetricsSource(\n",
    "        s3_uri=\"{}/evaluation.json\".format(\n",
    "            step_eval.arguments[\"ProcessingOutputConfig\"][\"Outputs\"][0][\"S3Output\"][\n",
    "                \"S3Uri\"\n",
    "            ]\n",
    "        ),\n",
    "        # s3_uri=\"s3://sagemaker-us-east-1-629171115321/pipeline-project-eval-Intel-classifier--2023-01-03-02-39-40-663/output/evaluation/evaluation.json\",\n",
    "        content_type=\"application/json\",\n",
    "    )\n",
    ")"
   ]
  },
  {
   "cell_type": "markdown",
   "id": "bf6d7422-11d6-42d3-88f3-47ed319b3b7f",
   "metadata": {
    "tags": []
   },
   "source": [
    "## Register Model Step (Conditional)"
   ]
  },
  {
   "cell_type": "code",
   "execution_count": 41,
   "id": "6fc00c3f-1960-4a0c-b581-7be5ebc072d6",
   "metadata": {},
   "outputs": [],
   "source": [
    "from sagemaker.pytorch import PyTorchModel\n",
    "from sagemaker.serializers import JSONSerializer\n",
    "from sagemaker.deserializers import JSONDeserializer\n",
    "from sagemaker.workflow.model_step import ModelStep"
   ]
  },
  {
   "cell_type": "code",
   "execution_count": 42,
   "id": "6a039d25-67e8-40ff-9068-5a60c8958b59",
   "metadata": {},
   "outputs": [],
   "source": [
    "model_approval_status = ParameterString(\n",
    "    name=\"ModelApprovalStatus\", default_value=\"PendingManualApproval\"\n",
    ")"
   ]
  },
  {
   "cell_type": "code",
   "execution_count": 43,
   "id": "1c69ae81-2be1-412e-b80f-4074848b0979",
   "metadata": {},
   "outputs": [],
   "source": [
    "model_package_group_name = \"ProjectIntelClassifierModelGroup\""
   ]
  },
  {
   "cell_type": "code",
   "execution_count": 44,
   "id": "21ab976b-82b3-4f80-974c-95ae3d46d8ba",
   "metadata": {},
   "outputs": [],
   "source": [
    "model = PyTorchModel(\n",
    "    entry_point=\"infer.py\",\n",
    "    source_dir=\"sagemaker-intel-pipeline\",\n",
    "    sagemaker_session=pipeline_session,\n",
    "    role=role,\n",
    "    model_data=step_train.properties.ModelArtifacts.S3ModelArtifacts,\n",
    "    # model_data=\"s3://sagemaker-us-east-1-629171115321/pipeline-project-training-intel-pipelin-2023-01-03-02-28-57-889/output/model.tar.gz\",\n",
    "    framework_version=\"1.11.0\",\n",
    "    py_version=\"py38\",\n",
    ")"
   ]
  },
  {
   "cell_type": "code",
   "execution_count": 45,
   "id": "8860123d-365b-41ab-8482-e6e28b1e506b",
   "metadata": {},
   "outputs": [],
   "source": [
    "model_step_args = model.register(\n",
    "    content_types=[\"application/json\"],\n",
    "    response_types=[\"application/json\"],\n",
    "    inference_instances=[\"ml.t2.medium\"],\n",
    "    transform_instances=[\"ml.m4.xlarge\"],\n",
    "    model_package_group_name=model_package_group_name,\n",
    "    approval_status=model_approval_status,\n",
    "    # approval_status=\"PendingManualApproval\",\n",
    "    model_metrics=model_metrics,\n",
    ")"
   ]
  },
  {
   "cell_type": "code",
   "execution_count": 46,
   "id": "dd2cd759-9d5b-4b13-abc7-c91ec9feb574",
   "metadata": {},
   "outputs": [],
   "source": [
    "step_register = ModelStep(\n",
    "    name=\"RegisterIntelClassifierModel\",\n",
    "    step_args=model_step_args,\n",
    ")"
   ]
  },
  {
   "cell_type": "code",
   "execution_count": 47,
   "id": "bd6f2b76-bdee-46db-a3d3-d2ec4cadae02",
   "metadata": {},
   "outputs": [
    {
     "data": {
      "text/plain": [
       "ModelStep(name='RegisterIntelClassifierModel', steps=[_RepackModelStep(name='RegisterIntelClassifierModel-RepackModel-0', display_name=None, description='Used to repack a model with customer scripts for a register/create model step', step_type=<StepTypeEnum.TRAINING: 'Training'>, depends_on=None), _RegisterModelStep(name='RegisterIntelClassifierModel-RegisterModel', display_name=None, description=None, step_type=<StepTypeEnum.REGISTER_MODEL: 'RegisterModel'>, depends_on=None)])"
      ]
     },
     "execution_count": 47,
     "metadata": {},
     "output_type": "execute_result"
    }
   ],
   "source": [
    "step_register"
   ]
  },
  {
   "cell_type": "code",
   "execution_count": 48,
   "id": "3a54aa02-33ff-4d2d-baac-892322fcb7bb",
   "metadata": {},
   "outputs": [],
   "source": [
    "from sagemaker.workflow.conditions import ConditionGreaterThanOrEqualTo\n",
    "from sagemaker.workflow.functions import (\n",
    "    JsonGet,\n",
    ")\n",
    "from sagemaker.workflow.condition_step import (\n",
    "    ConditionStep,\n",
    ")"
   ]
  },
  {
   "cell_type": "code",
   "execution_count": 49,
   "id": "e351601a-d323-4062-a71e-930944cceea6",
   "metadata": {},
   "outputs": [],
   "source": [
    "cond_gte = ConditionGreaterThanOrEqualTo(\n",
    "    left=JsonGet(\n",
    "        step_name=step_eval.name,\n",
    "        property_file=evaluation_report,\n",
    "        json_path=\"multiclass_classification_metrics.accuracy.value\",\n",
    "    ),\n",
    "    right=0.6,\n",
    ")\n",
    "\n",
    "step_cond = ConditionStep(\n",
    "    name=\"CheckAccuracyIntelClassifierEvaluation\",\n",
    "    conditions=[cond_gte],\n",
    "    if_steps=[step_register],\n",
    "    else_steps=[],\n",
    ")"
   ]
  },
  {
   "cell_type": "markdown",
   "id": "b39a3ae8-f476-4e04-8f66-8e93d451f8c1",
   "metadata": {},
   "source": [
    "## Pipeline"
   ]
  },
  {
   "cell_type": "code",
   "execution_count": 50,
   "id": "fce5b4c3-0044-4387-8e63-2f03051d813d",
   "metadata": {
    "tags": []
   },
   "outputs": [],
   "source": [
    "from sagemaker.workflow.pipeline import Pipeline"
   ]
  },
  {
   "cell_type": "code",
   "execution_count": 51,
   "id": "e9a8cab4-9129-4e2b-bb64-2646263f597a",
   "metadata": {
    "tags": []
   },
   "outputs": [],
   "source": [
    "pipeline_name = \"ProjectIntelClassifier1\""
   ]
  },
  {
   "cell_type": "code",
   "execution_count": 52,
   "id": "87837801-96c3-4388-9213-2e086fc6874d",
   "metadata": {
    "tags": []
   },
   "outputs": [],
   "source": [
    "pipeline = Pipeline(\n",
    "    name=pipeline_name,\n",
    "    parameters=[dvc_repo_url, dvc_branch, input_dataset, model_approval_status, train_s3_loc, test_s3_loc,\n",
    "                model_name, \n",
    "                optim_name,\n",
    "                batch_size,\n",
    "                learning_rate],\n",
    "    steps=[step_process, step_train, step_eval, step_cond],\n",
    "    sagemaker_session=pipeline_session,\n",
    "    # sagemaker_session=local_pipeline_session,\n",
    ")"
   ]
  },
  {
   "cell_type": "code",
   "execution_count": 53,
   "id": "ab93bfb1-7116-47a5-97af-1861e8d81341",
   "metadata": {
    "tags": []
   },
   "outputs": [],
   "source": [
    "upsert_response = pipeline.upsert(\n",
    "    role_arn=role, description=\"testing Project Intel pipeline v1\"\n",
    ")"
   ]
  },
  {
   "cell_type": "code",
   "execution_count": 54,
   "id": "f02ae2af-ec95-4a33-8b72-e96db266fc19",
   "metadata": {
    "tags": []
   },
   "outputs": [],
   "source": [
    "execution = pipeline.start()"
   ]
  },
  {
   "cell_type": "code",
   "execution_count": 55,
   "id": "e26c0634-74a6-450d-8406-2c1002c565c3",
   "metadata": {
    "tags": []
   },
   "outputs": [
    {
     "data": {
      "text/plain": [
       "[{'StepName': 'PreprocessIntelClassifierDataset',\n",
       "  'StartTime': datetime.datetime(2023, 1, 4, 2, 50, 56, 34000, tzinfo=tzlocal()),\n",
       "  'StepStatus': 'Executing',\n",
       "  'AttemptCount': 0,\n",
       "  'Metadata': {'ProcessingJob': {'Arn': 'arn:aws:sagemaker:us-east-1:629171115321:processing-job/pipelines-79pqywiherly-preprocessintelclass-kaw4bhpeqg'}}}]"
      ]
     },
     "execution_count": 55,
     "metadata": {},
     "output_type": "execute_result"
    }
   ],
   "source": [
    "execution.list_steps()"
   ]
  },
  {
   "cell_type": "code",
   "execution_count": 56,
   "id": "1b74b2a2-ca5c-48aa-8422-808c94115b9d",
   "metadata": {
    "tags": []
   },
   "outputs": [
    {
     "data": {
      "text/plain": [
       "{'PipelineArn': 'arn:aws:sagemaker:us-east-1:629171115321:pipeline/projectintelclassifier1',\n",
       " 'PipelineExecutionArn': 'arn:aws:sagemaker:us-east-1:629171115321:pipeline/projectintelclassifier1/execution/79pqywiherly',\n",
       " 'PipelineExecutionDisplayName': 'execution-1672800655211',\n",
       " 'PipelineExecutionStatus': 'Executing',\n",
       " 'PipelineExperimentConfig': {'ExperimentName': 'projectintelclassifier1',\n",
       "  'TrialName': '79pqywiherly'},\n",
       " 'CreationTime': datetime.datetime(2023, 1, 4, 2, 50, 55, 102000, tzinfo=tzlocal()),\n",
       " 'LastModifiedTime': datetime.datetime(2023, 1, 4, 2, 50, 55, 102000, tzinfo=tzlocal()),\n",
       " 'CreatedBy': {},\n",
       " 'LastModifiedBy': {},\n",
       " 'ResponseMetadata': {'RequestId': '92123045-9d9a-4a57-9a76-d57d96fbedff',\n",
       "  'HTTPStatusCode': 200,\n",
       "  'HTTPHeaders': {'x-amzn-requestid': '92123045-9d9a-4a57-9a76-d57d96fbedff',\n",
       "   'content-type': 'application/x-amz-json-1.1',\n",
       "   'content-length': '510',\n",
       "   'date': 'Wed, 04 Jan 2023 02:50:58 GMT'},\n",
       "  'RetryAttempts': 0}}"
      ]
     },
     "execution_count": 56,
     "metadata": {},
     "output_type": "execute_result"
    }
   ],
   "source": [
    "execution.describe()"
   ]
  },
  {
   "cell_type": "code",
   "execution_count": null,
   "id": "56e7cacb-afc1-4fe5-99ff-c2cf76d3f558",
   "metadata": {},
   "outputs": [],
   "source": []
  },
  {
   "cell_type": "code",
   "execution_count": null,
   "id": "0070c262-604b-489d-b272-d9c28d026092",
   "metadata": {},
   "outputs": [],
   "source": []
  }
 ],
 "metadata": {
  "instance_type": "ml.t3.medium",
  "kernelspec": {
   "display_name": "conda_amazonei_pytorch_latest_p37",
   "language": "python",
   "name": "conda_amazonei_pytorch_latest_p37"
  },
  "language_info": {
   "codemirror_mode": {
    "name": "ipython",
    "version": 3
   },
   "file_extension": ".py",
   "mimetype": "text/x-python",
   "name": "python",
   "nbconvert_exporter": "python",
   "pygments_lexer": "ipython3",
   "version": "3.7.12"
  },
  "vscode": {
   "interpreter": {
    "hash": "63cd14186f4f9ee1f3a96aa244a291192614759cb70b0eeee1e1147c30b53c71"
   }
  }
 },
 "nbformat": 4,
 "nbformat_minor": 5
}
